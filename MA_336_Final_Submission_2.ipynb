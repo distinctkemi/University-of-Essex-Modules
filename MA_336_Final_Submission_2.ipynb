{
  "cells": [
    {
      "cell_type": "markdown",
      "id": "e44f111a",
      "metadata": {
        "id": "e44f111a"
      },
      "source": [
        "# __LOAN APPROVAL PREDICTION USING MACHINE LEARNING ALGORITHM: A COMPARATIVE STUDY__\n",
        "\n",
        "### Abstract\n",
        "A loan is a financial transaction in which one or more individuals, organisations, or other entities lend money to other individuals, organisations, or entities. The recipient (i.e., the borrower) takes on a debt for which he or she is normally accountable for interest payments until the loan is repaid. Banks have various goods to sell in the banking system, but their major source of income is their credit lines. As a result, they can profit from the interest on the loans they credit. Oftentimes, the profit or loss of a bank is mostly determined by loans, i.e., whether consumers repay the loan or default on it. The project's goal is to identify the best algorithm to automate the method, which will save time and energy while improving the efficiency of the process. In terms of loan forecasting, experimental studies revealed that the Random Forest algorithm outperformed other algorithms with higher accuracy."
      ]
    },
    {
      "cell_type": "markdown",
      "id": "841ed4f7",
      "metadata": {
        "id": "841ed4f7"
      },
      "source": [
        "## Introduction\n",
        "---\n",
        "\n",
        "In our banking system, banks sell a variety of products, but credit lines are their primary source of revenue. As a result, they can benefit from the interest on the loans they make. Loans decide whether a bank makes a profit or loses money, i.e., whether customers return the loan or default on it. Just as banks rely on loans to make huge profit, individuals, businesses, and organisations also depend on banks for loans. The purpose of this report is to provide a simple, quick, and straightforward method for selecting suitable applicants. Financial institutions are found in all urban, semi-urban, and rural locations, accord by to this dataset. Customers request for a loan once their creditworthiness has been verified by the firm or bank. The company or bank wants to automate (in real-time) the loan eligibility procedure based on client information provided on the application form.\n",
        "Furthermore, this area has gotten greater attention and academic interest because of recent advances in data science and some important discoveries in the field of artificial intelligence. It has drawn more attention in recent years to research on loan prediction and credit risk assessment. Due to the current high demand for loans, there is a huge increase in need for additional improvements in credit scoring and loan prediction models. A variety of methodologies have been used to give credit scores to individuals, and much research has been done on the subject throughout the years.\n",
        "In the dataset, Gender, Marital Status, Education, Number of Dependents, Income, Loan Amount, Credit History, and other facts are included to determine eligibility for the loan approval. The SVM, Decision tree, K-nearest neighbour, Logistic regression, Random Forest classifier, and Nave Bayes algorithms were used to forecast loan safety."
      ]
    },
    {
      "cell_type": "markdown",
      "id": "fd8c9aa2",
      "metadata": {
        "id": "fd8c9aa2"
      },
      "source": [
        "## Motivation\n",
        "---\n",
        "\n",
        "The purpose of this report is to discuss the use of various machine learning algorithms and suggest the best approach for a financial institution to accurately identify who to lend to and to assist in identifying loan defaulters for significantly reduced credit risk. Six classifiers were utilised to create the model. They'll each be utilised individually to analyse the dataset, find patterns in it, and learn from them. Ultimately, to predict whether a new applicant is likely to default on a loan based on that information."
      ]
    },
    {
      "cell_type": "markdown",
      "id": "b8c4a938",
      "metadata": {
        "id": "b8c4a938"
      },
      "source": [
        "## Exploring the datasets (EDA)\n",
        "---\n",
        "\n",
        "The dataset used in this report is from [Kaggle](https://www.kaggle.com/code/hafidhfikri/loan-approval-prediction/data?select=train_u6lujuX_CVtuZ9i+%281%29.csv/) The system automatically forecast which customer loans it should approve and which it should reject based on the loan dataset. As an input, the system will take a loan application form. To be processed, a properly formatted application form should be provided as an input. Output 1 shows the attributes that are considered before a loan is approve. "
      ]
    },
    {
      "cell_type": "code",
      "execution_count": null,
      "id": "e47fc956",
      "metadata": {
        "id": "e47fc956",
        "outputId": "215bd1b8-293e-48f6-b970-9414c37ff232"
      },
      "outputs": [
        {
          "data": {
            "text/html": [
              "<div>\n",
              "<style scoped>\n",
              "    .dataframe tbody tr th:only-of-type {\n",
              "        vertical-align: middle;\n",
              "    }\n",
              "\n",
              "    .dataframe tbody tr th {\n",
              "        vertical-align: top;\n",
              "    }\n",
              "\n",
              "    .dataframe thead th {\n",
              "        text-align: right;\n",
              "    }\n",
              "</style>\n",
              "<table border=\"1\" class=\"dataframe\">\n",
              "  <thead>\n",
              "    <tr style=\"text-align: right;\">\n",
              "      <th></th>\n",
              "      <th>Loan_ID</th>\n",
              "      <th>Gender</th>\n",
              "      <th>Married</th>\n",
              "      <th>Dependents</th>\n",
              "      <th>Education</th>\n",
              "      <th>Self_Employed</th>\n",
              "      <th>ApplicantIncome</th>\n",
              "      <th>CoapplicantIncome</th>\n",
              "      <th>LoanAmount</th>\n",
              "      <th>Loan_Amount_Term</th>\n",
              "      <th>Credit_History</th>\n",
              "      <th>Property_Area</th>\n",
              "      <th>Loan_Status</th>\n",
              "    </tr>\n",
              "  </thead>\n",
              "  <tbody>\n",
              "    <tr>\n",
              "      <th>0</th>\n",
              "      <td>LP001002</td>\n",
              "      <td>Male</td>\n",
              "      <td>No</td>\n",
              "      <td>0</td>\n",
              "      <td>Graduate</td>\n",
              "      <td>No</td>\n",
              "      <td>5849</td>\n",
              "      <td>0.0</td>\n",
              "      <td>NaN</td>\n",
              "      <td>360.0</td>\n",
              "      <td>1.0</td>\n",
              "      <td>Urban</td>\n",
              "      <td>Y</td>\n",
              "    </tr>\n",
              "    <tr>\n",
              "      <th>1</th>\n",
              "      <td>LP001003</td>\n",
              "      <td>Male</td>\n",
              "      <td>Yes</td>\n",
              "      <td>1</td>\n",
              "      <td>Graduate</td>\n",
              "      <td>No</td>\n",
              "      <td>4583</td>\n",
              "      <td>1508.0</td>\n",
              "      <td>128.0</td>\n",
              "      <td>360.0</td>\n",
              "      <td>1.0</td>\n",
              "      <td>Rural</td>\n",
              "      <td>N</td>\n",
              "    </tr>\n",
              "    <tr>\n",
              "      <th>2</th>\n",
              "      <td>LP001005</td>\n",
              "      <td>Male</td>\n",
              "      <td>Yes</td>\n",
              "      <td>0</td>\n",
              "      <td>Graduate</td>\n",
              "      <td>Yes</td>\n",
              "      <td>3000</td>\n",
              "      <td>0.0</td>\n",
              "      <td>66.0</td>\n",
              "      <td>360.0</td>\n",
              "      <td>1.0</td>\n",
              "      <td>Urban</td>\n",
              "      <td>Y</td>\n",
              "    </tr>\n",
              "    <tr>\n",
              "      <th>3</th>\n",
              "      <td>LP001006</td>\n",
              "      <td>Male</td>\n",
              "      <td>Yes</td>\n",
              "      <td>0</td>\n",
              "      <td>Not Graduate</td>\n",
              "      <td>No</td>\n",
              "      <td>2583</td>\n",
              "      <td>2358.0</td>\n",
              "      <td>120.0</td>\n",
              "      <td>360.0</td>\n",
              "      <td>1.0</td>\n",
              "      <td>Urban</td>\n",
              "      <td>Y</td>\n",
              "    </tr>\n",
              "    <tr>\n",
              "      <th>4</th>\n",
              "      <td>LP001008</td>\n",
              "      <td>Male</td>\n",
              "      <td>No</td>\n",
              "      <td>0</td>\n",
              "      <td>Graduate</td>\n",
              "      <td>No</td>\n",
              "      <td>6000</td>\n",
              "      <td>0.0</td>\n",
              "      <td>141.0</td>\n",
              "      <td>360.0</td>\n",
              "      <td>1.0</td>\n",
              "      <td>Urban</td>\n",
              "      <td>Y</td>\n",
              "    </tr>\n",
              "  </tbody>\n",
              "</table>\n",
              "</div>"
            ],
            "text/plain": [
              "    Loan_ID Gender Married Dependents     Education Self_Employed  \\\n",
              "0  LP001002   Male      No          0      Graduate            No   \n",
              "1  LP001003   Male     Yes          1      Graduate            No   \n",
              "2  LP001005   Male     Yes          0      Graduate           Yes   \n",
              "3  LP001006   Male     Yes          0  Not Graduate            No   \n",
              "4  LP001008   Male      No          0      Graduate            No   \n",
              "\n",
              "   ApplicantIncome  CoapplicantIncome  LoanAmount  Loan_Amount_Term  \\\n",
              "0             5849                0.0         NaN             360.0   \n",
              "1             4583             1508.0       128.0             360.0   \n",
              "2             3000                0.0        66.0             360.0   \n",
              "3             2583             2358.0       120.0             360.0   \n",
              "4             6000                0.0       141.0             360.0   \n",
              "\n",
              "   Credit_History Property_Area Loan_Status  \n",
              "0             1.0         Urban           Y  \n",
              "1             1.0         Rural           N  \n",
              "2             1.0         Urban           Y  \n",
              "3             1.0         Urban           Y  \n",
              "4             1.0         Urban           Y  "
            ]
          },
          "execution_count": 1,
          "metadata": {},
          "output_type": "execute_result"
        }
      ],
      "source": [
        "#Import necessary libraries\n",
        "import numpy as np # linear algebra\n",
        "import pandas as pd # data processing\n",
        "# load Dataset \n",
        "loan_df = pd.read_csv(\"/Users/oluwakemifarinde/Downloads/All MA336/Project/Loan Pred. Train.csv\")\n",
        "loan_df.head() #view the top 5 information"
      ]
    },
    {
      "cell_type": "markdown",
      "id": "e2aaf12f",
      "metadata": {
        "id": "e2aaf12f"
      },
      "source": [
        "There are 13 variables in the dataframe. The attibutes are explained below;"
      ]
    },
    {
      "cell_type": "markdown",
      "id": "6fc0892e",
      "metadata": {
        "id": "6fc0892e"
      },
      "source": [
        "| Attributes       | Description             |\n",
        "|------------------|-------------------------|\n",
        "|   Gender         | Male/Female             |\n",
        "|Married           | Yes/No                  |\n",
        "|Self_Employed     | Yes/No                  |\n",
        "|Credit_History    | Meets Guidelines or Not |\n",
        "|Loan_Status       | Loan Approved or Not    |\n",
        "|Dependents        | Number of Dependents    |\n",
        "|Education         | Graduate/Under-Graduate |\n",
        "|Property_Area     | Urban/Semi-Urban/Rural  |\n",
        "|ApplicantIncome   | Applicant’s Income      |\n",
        "|CoapplicantIncome | Co-Applicant’s Income   |\n",
        "|LoanAmount        | Loan Amount in Thousands|\n",
        "|Loan_Amount_Term  | Term of Loan in Months  |"
      ]
    },
    {
      "cell_type": "markdown",
      "id": "f1646954",
      "metadata": {
        "id": "f1646954"
      },
      "source": [
        "#### Statistical Analysis - Continuos Variables"
      ]
    },
    {
      "cell_type": "code",
      "execution_count": null,
      "id": "d5bfdc78",
      "metadata": {
        "id": "d5bfdc78",
        "outputId": "5f4e321d-c8e4-4f91-eb7d-e1cc621e65ad"
      },
      "outputs": [
        {
          "data": {
            "text/html": [
              "<div>\n",
              "<style scoped>\n",
              "    .dataframe tbody tr th:only-of-type {\n",
              "        vertical-align: middle;\n",
              "    }\n",
              "\n",
              "    .dataframe tbody tr th {\n",
              "        vertical-align: top;\n",
              "    }\n",
              "\n",
              "    .dataframe thead th {\n",
              "        text-align: right;\n",
              "    }\n",
              "</style>\n",
              "<table border=\"1\" class=\"dataframe\">\n",
              "  <thead>\n",
              "    <tr style=\"text-align: right;\">\n",
              "      <th></th>\n",
              "      <th>ApplicantIncome</th>\n",
              "      <th>CoapplicantIncome</th>\n",
              "      <th>LoanAmount</th>\n",
              "      <th>Loan_Amount_Term</th>\n",
              "      <th>Credit_History</th>\n",
              "    </tr>\n",
              "  </thead>\n",
              "  <tbody>\n",
              "    <tr>\n",
              "      <th>count</th>\n",
              "      <td>614.000000</td>\n",
              "      <td>614.000000</td>\n",
              "      <td>592.000000</td>\n",
              "      <td>600.00000</td>\n",
              "      <td>564.000000</td>\n",
              "    </tr>\n",
              "    <tr>\n",
              "      <th>mean</th>\n",
              "      <td>5403.459283</td>\n",
              "      <td>1621.245798</td>\n",
              "      <td>146.412162</td>\n",
              "      <td>342.00000</td>\n",
              "      <td>0.842199</td>\n",
              "    </tr>\n",
              "    <tr>\n",
              "      <th>std</th>\n",
              "      <td>6109.041673</td>\n",
              "      <td>2926.248369</td>\n",
              "      <td>85.587325</td>\n",
              "      <td>65.12041</td>\n",
              "      <td>0.364878</td>\n",
              "    </tr>\n",
              "    <tr>\n",
              "      <th>min</th>\n",
              "      <td>150.000000</td>\n",
              "      <td>0.000000</td>\n",
              "      <td>9.000000</td>\n",
              "      <td>12.00000</td>\n",
              "      <td>0.000000</td>\n",
              "    </tr>\n",
              "    <tr>\n",
              "      <th>25%</th>\n",
              "      <td>2877.500000</td>\n",
              "      <td>0.000000</td>\n",
              "      <td>100.000000</td>\n",
              "      <td>360.00000</td>\n",
              "      <td>1.000000</td>\n",
              "    </tr>\n",
              "    <tr>\n",
              "      <th>50%</th>\n",
              "      <td>3812.500000</td>\n",
              "      <td>1188.500000</td>\n",
              "      <td>128.000000</td>\n",
              "      <td>360.00000</td>\n",
              "      <td>1.000000</td>\n",
              "    </tr>\n",
              "    <tr>\n",
              "      <th>75%</th>\n",
              "      <td>5795.000000</td>\n",
              "      <td>2297.250000</td>\n",
              "      <td>168.000000</td>\n",
              "      <td>360.00000</td>\n",
              "      <td>1.000000</td>\n",
              "    </tr>\n",
              "    <tr>\n",
              "      <th>max</th>\n",
              "      <td>81000.000000</td>\n",
              "      <td>41667.000000</td>\n",
              "      <td>700.000000</td>\n",
              "      <td>480.00000</td>\n",
              "      <td>1.000000</td>\n",
              "    </tr>\n",
              "  </tbody>\n",
              "</table>\n",
              "</div>"
            ],
            "text/plain": [
              "       ApplicantIncome  CoapplicantIncome  LoanAmount  Loan_Amount_Term  \\\n",
              "count       614.000000         614.000000  592.000000         600.00000   \n",
              "mean       5403.459283        1621.245798  146.412162         342.00000   \n",
              "std        6109.041673        2926.248369   85.587325          65.12041   \n",
              "min         150.000000           0.000000    9.000000          12.00000   \n",
              "25%        2877.500000           0.000000  100.000000         360.00000   \n",
              "50%        3812.500000        1188.500000  128.000000         360.00000   \n",
              "75%        5795.000000        2297.250000  168.000000         360.00000   \n",
              "max       81000.000000       41667.000000  700.000000         480.00000   \n",
              "\n",
              "       Credit_History  \n",
              "count      564.000000  \n",
              "mean         0.842199  \n",
              "std          0.364878  \n",
              "min          0.000000  \n",
              "25%          1.000000  \n",
              "50%          1.000000  \n",
              "75%          1.000000  \n",
              "max          1.000000  "
            ]
          },
          "execution_count": 2,
          "metadata": {},
          "output_type": "execute_result"
        }
      ],
      "source": [
        "loan_df.describe() #statistical analysis"
      ]
    },
    {
      "cell_type": "markdown",
      "id": "8ca50264",
      "metadata": {
        "id": "8ca50264"
      },
      "source": [
        "The statistical analysis demonstrates that the maximum Applicant income is **81,000** and **41,667** for Coapplicant income. The maximum loan amount requested is **700**.\n",
        "\n",
        "Also, it demonstrates that there are 614 cases with are missing values. With 22 missing values in Loan Amount, the column's median was used to fill in the gaps. There were 50 missing values in Credit History, as well as 14 missing values in Loan Amount Term. These values were filled by taking the mode of the columns and replacing the impacted rows. \n",
        "\n",
        "Before that, lets take a look at missing values in the whole dataset."
      ]
    },
    {
      "cell_type": "code",
      "execution_count": null,
      "id": "225f9387",
      "metadata": {
        "id": "225f9387",
        "outputId": "e7247df0-be03-4f35-baa1-c8fc361a32de"
      },
      "outputs": [
        {
          "data": {
            "text/plain": [
              "Loan_ID               0\n",
              "Gender               13\n",
              "Married               3\n",
              "Dependents           15\n",
              "Education             0\n",
              "Self_Employed        32\n",
              "ApplicantIncome       0\n",
              "CoapplicantIncome     0\n",
              "LoanAmount           22\n",
              "Loan_Amount_Term     14\n",
              "Credit_History       50\n",
              "Property_Area         0\n",
              "Loan_Status           0\n",
              "dtype: int64"
            ]
          },
          "execution_count": 3,
          "metadata": {},
          "output_type": "execute_result"
        }
      ],
      "source": [
        "loan_df.isnull().sum() #Show total missing values of each column"
      ]
    },
    {
      "cell_type": "markdown",
      "id": "99340821",
      "metadata": {
        "id": "99340821"
      },
      "source": [
        "Gender has 13 missing values. Married has 3 missing values, Dependents has 15 missing values, Self Employed is missing 32 values as well as the previously missing values. \n",
        "\n",
        "There are several ways of dealing with missing values which includes dropping rows, however we are going with filling and replace method with mode or median."
      ]
    },
    {
      "cell_type": "markdown",
      "id": "a23d8941",
      "metadata": {
        "id": "a23d8941"
      },
      "source": [
        "#### Data Cleaning"
      ]
    },
    {
      "cell_type": "code",
      "execution_count": null,
      "id": "f7da112a",
      "metadata": {
        "id": "f7da112a",
        "outputId": "f29b9425-77df-4fce-bfb2-c1381380147e"
      },
      "outputs": [
        {
          "data": {
            "text/html": [
              "<div>\n",
              "<style scoped>\n",
              "    .dataframe tbody tr th:only-of-type {\n",
              "        vertical-align: middle;\n",
              "    }\n",
              "\n",
              "    .dataframe tbody tr th {\n",
              "        vertical-align: top;\n",
              "    }\n",
              "\n",
              "    .dataframe thead th {\n",
              "        text-align: right;\n",
              "    }\n",
              "</style>\n",
              "<table border=\"1\" class=\"dataframe\">\n",
              "  <thead>\n",
              "    <tr style=\"text-align: right;\">\n",
              "      <th></th>\n",
              "      <th>Loan_ID</th>\n",
              "      <th>Gender</th>\n",
              "      <th>Married</th>\n",
              "      <th>Dependents</th>\n",
              "      <th>Education</th>\n",
              "      <th>Self_Employed</th>\n",
              "      <th>ApplicantIncome</th>\n",
              "      <th>CoapplicantIncome</th>\n",
              "      <th>LoanAmount</th>\n",
              "      <th>Loan_Amount_Term</th>\n",
              "      <th>Credit_History</th>\n",
              "      <th>Property_Area</th>\n",
              "      <th>Loan_Status</th>\n",
              "    </tr>\n",
              "  </thead>\n",
              "  <tbody>\n",
              "    <tr>\n",
              "      <th>0</th>\n",
              "      <td>LP001002</td>\n",
              "      <td>Male</td>\n",
              "      <td>No</td>\n",
              "      <td>0</td>\n",
              "      <td>Graduate</td>\n",
              "      <td>No</td>\n",
              "      <td>5849</td>\n",
              "      <td>0.0</td>\n",
              "      <td>128.0</td>\n",
              "      <td>360.0</td>\n",
              "      <td>1.0</td>\n",
              "      <td>Urban</td>\n",
              "      <td>Y</td>\n",
              "    </tr>\n",
              "    <tr>\n",
              "      <th>1</th>\n",
              "      <td>LP001003</td>\n",
              "      <td>Male</td>\n",
              "      <td>Yes</td>\n",
              "      <td>1</td>\n",
              "      <td>Graduate</td>\n",
              "      <td>No</td>\n",
              "      <td>4583</td>\n",
              "      <td>1508.0</td>\n",
              "      <td>128.0</td>\n",
              "      <td>360.0</td>\n",
              "      <td>1.0</td>\n",
              "      <td>Rural</td>\n",
              "      <td>N</td>\n",
              "    </tr>\n",
              "    <tr>\n",
              "      <th>2</th>\n",
              "      <td>LP001005</td>\n",
              "      <td>Male</td>\n",
              "      <td>Yes</td>\n",
              "      <td>0</td>\n",
              "      <td>Graduate</td>\n",
              "      <td>Yes</td>\n",
              "      <td>3000</td>\n",
              "      <td>0.0</td>\n",
              "      <td>66.0</td>\n",
              "      <td>360.0</td>\n",
              "      <td>1.0</td>\n",
              "      <td>Urban</td>\n",
              "      <td>Y</td>\n",
              "    </tr>\n",
              "    <tr>\n",
              "      <th>3</th>\n",
              "      <td>LP001006</td>\n",
              "      <td>Male</td>\n",
              "      <td>Yes</td>\n",
              "      <td>0</td>\n",
              "      <td>Not Graduate</td>\n",
              "      <td>No</td>\n",
              "      <td>2583</td>\n",
              "      <td>2358.0</td>\n",
              "      <td>120.0</td>\n",
              "      <td>360.0</td>\n",
              "      <td>1.0</td>\n",
              "      <td>Urban</td>\n",
              "      <td>Y</td>\n",
              "    </tr>\n",
              "    <tr>\n",
              "      <th>4</th>\n",
              "      <td>LP001008</td>\n",
              "      <td>Male</td>\n",
              "      <td>No</td>\n",
              "      <td>0</td>\n",
              "      <td>Graduate</td>\n",
              "      <td>No</td>\n",
              "      <td>6000</td>\n",
              "      <td>0.0</td>\n",
              "      <td>141.0</td>\n",
              "      <td>360.0</td>\n",
              "      <td>1.0</td>\n",
              "      <td>Urban</td>\n",
              "      <td>Y</td>\n",
              "    </tr>\n",
              "  </tbody>\n",
              "</table>\n",
              "</div>"
            ],
            "text/plain": [
              "    Loan_ID Gender Married Dependents     Education Self_Employed  \\\n",
              "0  LP001002   Male      No          0      Graduate            No   \n",
              "1  LP001003   Male     Yes          1      Graduate            No   \n",
              "2  LP001005   Male     Yes          0      Graduate           Yes   \n",
              "3  LP001006   Male     Yes          0  Not Graduate            No   \n",
              "4  LP001008   Male      No          0      Graduate            No   \n",
              "\n",
              "   ApplicantIncome  CoapplicantIncome  LoanAmount  Loan_Amount_Term  \\\n",
              "0             5849                0.0       128.0             360.0   \n",
              "1             4583             1508.0       128.0             360.0   \n",
              "2             3000                0.0        66.0             360.0   \n",
              "3             2583             2358.0       120.0             360.0   \n",
              "4             6000                0.0       141.0             360.0   \n",
              "\n",
              "   Credit_History Property_Area Loan_Status  \n",
              "0             1.0         Urban           Y  \n",
              "1             1.0         Rural           N  \n",
              "2             1.0         Urban           Y  \n",
              "3             1.0         Urban           Y  \n",
              "4             1.0         Urban           Y  "
            ]
          },
          "execution_count": 4,
          "metadata": {},
          "output_type": "execute_result"
        }
      ],
      "source": [
        "loan_df['Gender'].fillna(loan_df['Gender'].mode()[0], inplace=True)\n",
        "loan_df['Married'].fillna(loan_df['Married'].mode()[0], inplace=True)\n",
        "loan_df['Dependents'].fillna(loan_df['Dependents'].mode()[0], inplace=True)\n",
        "loan_df['Self_Employed'].fillna(loan_df['Self_Employed'].mode()[0], inplace=True)\n",
        "loan_df['LoanAmount'].fillna(loan_df['LoanAmount'].median(), inplace=True)\n",
        "loan_df['Loan_Amount_Term'].fillna(loan_df['Loan_Amount_Term'].mode()[0], inplace=True)\n",
        "loan_df['Credit_History'].fillna(loan_df['Credit_History'].mode()[0], inplace=True)\n",
        "loan_df.head()"
      ]
    },
    {
      "cell_type": "code",
      "execution_count": null,
      "id": "a9046039",
      "metadata": {
        "id": "a9046039",
        "outputId": "163d0740-7f90-4cf0-f3cc-b3c8ccb7f3ad"
      },
      "outputs": [
        {
          "data": {
            "text/plain": [
              "Loan_ID              0\n",
              "Gender               0\n",
              "Married              0\n",
              "Dependents           0\n",
              "Education            0\n",
              "Self_Employed        0\n",
              "ApplicantIncome      0\n",
              "CoapplicantIncome    0\n",
              "LoanAmount           0\n",
              "Loan_Amount_Term     0\n",
              "Credit_History       0\n",
              "Property_Area        0\n",
              "Loan_Status          0\n",
              "dtype: int64"
            ]
          },
          "execution_count": 5,
          "metadata": {},
          "output_type": "execute_result"
        }
      ],
      "source": [
        "loan_df.isnull().sum() #0 missing values again"
      ]
    },
    {
      "cell_type": "code",
      "execution_count": null,
      "id": "d07d24d8",
      "metadata": {
        "id": "d07d24d8"
      },
      "outputs": [],
      "source": [
        "#Removed Loan ID since it has no use on the analysis\n",
        "loan_df.drop('Loan_ID',axis=1,inplace=True)"
      ]
    },
    {
      "cell_type": "markdown",
      "id": "173277f4",
      "metadata": {
        "id": "173277f4"
      },
      "source": [
        "#### Visualize data information"
      ]
    },
    {
      "cell_type": "code",
      "execution_count": null,
      "id": "68b5f51c",
      "metadata": {
        "id": "68b5f51c",
        "outputId": "be1627fb-eb4c-4ecd-a999-c0b8ea0439e4"
      },
      "outputs": [
        {
          "data": {
            "image/png": "[encoded data removed]",
            "text/plain": [
              "<Figure size 360x360 with 1 Axes>"
            ]
          },
          "metadata": {
            "needs_background": "light"
          },
          "output_type": "display_data"
        },
        {
          "data": {
            "image/png": "[encoded data removed]",
            "text/plain": [
              "<Figure size 360x360 with 1 Axes>"
            ]
          },
          "metadata": {
            "needs_background": "light"
          },
          "output_type": "display_data"
        },
        {
          "data": {
            "image/png": "[encoded data removed]",
            "text/plain": [
              "<Figure size 360x360 with 1 Axes>"
            ]
          },
          "metadata": {
            "needs_background": "light"
          },
          "output_type": "display_data"
        },
        {
          "data": {
            "image/png": "[encoded data removed]",
            "text/plain": [
              "<Figure size 360x360 with 1 Axes>"
            ]
          },
          "metadata": {
            "needs_background": "light"
          },
          "output_type": "display_data"
        },
        {
          "data": {
            "image/png": "[encoded data removed]",
            "text/plain": [
              "<Figure size 360x360 with 1 Axes>"
            ]
          },
          "metadata": {
            "needs_background": "light"
          },
          "output_type": "display_data"
        },
        {
          "data": {
            "image/png": "[encoded data removed]",
            "text/plain": [
              "<Figure size 360x360 with 1 Axes>"
            ]
          },
          "metadata": {
            "needs_background": "light"
          },
          "output_type": "display_data"
        },
        {
          "data": {
            "image/png": "[encoded data removed]",
            "text/plain": [
              "<Figure size 360x360 with 1 Axes>"
            ]
          },
          "metadata": {
            "needs_background": "light"
          },
          "output_type": "display_data"
        },
        {
          "data": {
            "image/png": "[encoded data removed]",
            "text/plain": [
              "<Figure size 360x360 with 1 Axes>"
            ]
          },
          "metadata": {
            "needs_background": "light"
          },
          "output_type": "display_data"
        },
        {
          "data": {
            "image/png": "[encoded data removed]",
            "text/plain": [
              "<Figure size 360x360 with 1 Axes>"
            ]
          },
          "metadata": {
            "needs_background": "light"
          },
          "output_type": "display_data"
        },
        {
          "data": {
            "image/png": "[encoded data removed]",
            "text/plain": [
              "<Figure size 360x360 with 1 Axes>"
            ]
          },
          "metadata": {
            "needs_background": "light"
          },
          "output_type": "display_data"
        },
        {
          "data": {
            "image/png": "[encoded data removed]",
            "text/plain": [
              "<Figure size 360x360 with 1 Axes>"
            ]
          },
          "metadata": {
            "needs_background": "light"
          },
          "output_type": "display_data"
        },
        {
          "data": {
            "image/png": "[encoded data removed]",
            "text/plain": [
              "<Figure size 360x360 with 1 Axes>"
            ]
          },
          "metadata": {
            "needs_background": "light"
          },
          "output_type": "display_data"
        }
      ],
      "source": [
        "#import plotting libraries\n",
        "import matplotlib.pyplot as plt\n",
        "import seaborn as sns\n",
        "#visualize dataset features\n",
        "for _ ,column in enumerate(loan_df.columns):\n",
        "    sns.displot(loan_df[column], palette=\"Paired\")"
      ]
    },
    {
      "cell_type": "markdown",
      "id": "86a67151",
      "metadata": {
        "id": "86a67151"
      },
      "source": [
        "#### Observations from the plot above shows the following\n",
        "1. **Sex**: Men outnumber women by a factor of two (approx. 3x)\n",
        "1. **Marital Status**: Married applicants are more likely to be given loans; 2/3 of the population in the dataset is married.\n",
        "1. **Dependents**: The vast majority of the population has no dependents and is therefore more likely to be approved for a loan.\n",
        "1. **Education**: About 5/6th of the population is educated, and graduates have a higher chance of getting a loan.\n",
        "1. **Employment**: 5/6th of the population does not work for themselves.\n",
        "1. **Loan Amount Term**: The vast majority of loans are for 360 months (30 years)\n",
        "1. **Credit History**: Applicants with a good credit history have a far better chance of being accepted.\n",
        "1. **Property Area**: Semi-urban candidates are more likely to be approved for loans.\n",
        "1. **Loan Approval Status**: Approximately two-thirds of applicants have been approved for a loan."
      ]
    },
    {
      "cell_type": "code",
      "execution_count": null,
      "id": "d6585c93",
      "metadata": {
        "id": "d6585c93",
        "outputId": "378f8f3d-52fa-4c53-feff-210369ae76c9"
      },
      "outputs": [
        {
          "data": {
            "image/png": "[encoded data removed]",
            "text/plain": [
              "<Figure size 1584x360 with 3 Axes>"
            ]
          },
          "metadata": {
            "needs_background": "light"
          },
          "output_type": "display_data"
        }
      ],
      "source": [
        "#Visualise loan details according to Dependents, Education and Property Area\n",
        "fig2, ax2= plt.subplots(1,3) #Visualise 3 charts on a row\n",
        "loan_df['Dependents'].value_counts(normalize=True).plot(figsize=(22,5),ax=ax2[0],kind='bar',title= 'Dependents',rot=0)\n",
        "loan_df['Education'].value_counts(normalize=True).plot(ax=ax2[1],kind='bar',title= 'Education',rot=0)\n",
        "loan_df['Property_Area'].value_counts(normalize=True).plot(ax=ax2[2],kind='bar',title= 'Property_Area',rot=0)\n",
        "fig2.tight_layout()\n",
        "#58% of the applicants have no dependent\n",
        "# 78% of the applicants are graduates\n",
        "# majority of the applicants are from the semi-urban area."
      ]
    },
    {
      "cell_type": "markdown",
      "id": "86f59276",
      "metadata": {
        "id": "86f59276"
      },
      "source": [
        "#### Dummy Variables\n",
        "A dummy variable is a numeric variable that reflects the categorical variables of the dataset's sub-categories or sub-groups.\n",
        "\n",
        "In a nutshell, a dummy variable allows us to distinguish between distinct sub-groups of data while also allowing us to use the data for regression analysis."
      ]
    },
    {
      "cell_type": "code",
      "execution_count": null,
      "id": "4013d93d",
      "metadata": {
        "id": "4013d93d"
      },
      "outputs": [],
      "source": [
        "#to make dummy variables since there are not more than 3 categories\n",
        "from sklearn.preprocessing import LabelEncoder\n",
        "cols=['Gender', 'Married', 'Education', 'Self_Employed', 'Property_Area', 'Loan_Status', 'Dependents']\n",
        "le=LabelEncoder()\n",
        "for col in cols:\n",
        "    loan_df[col]=le.fit_transform(loan_df[col])"
      ]
    },
    {
      "cell_type": "code",
      "execution_count": null,
      "id": "598ce4fc",
      "metadata": {
        "id": "598ce4fc",
        "outputId": "6a0c2118-1e24-4ec1-a650-37bc07caecde"
      },
      "outputs": [
        {
          "data": {
            "text/html": [
              "<div>\n",
              "<style scoped>\n",
              "    .dataframe tbody tr th:only-of-type {\n",
              "        vertical-align: middle;\n",
              "    }\n",
              "\n",
              "    .dataframe tbody tr th {\n",
              "        vertical-align: top;\n",
              "    }\n",
              "\n",
              "    .dataframe thead th {\n",
              "        text-align: right;\n",
              "    }\n",
              "</style>\n",
              "<table border=\"1\" class=\"dataframe\">\n",
              "  <thead>\n",
              "    <tr style=\"text-align: right;\">\n",
              "      <th></th>\n",
              "      <th>Gender</th>\n",
              "      <th>Married</th>\n",
              "      <th>Dependents</th>\n",
              "      <th>Education</th>\n",
              "      <th>Self_Employed</th>\n",
              "      <th>ApplicantIncome</th>\n",
              "      <th>CoapplicantIncome</th>\n",
              "      <th>LoanAmount</th>\n",
              "      <th>Loan_Amount_Term</th>\n",
              "      <th>Credit_History</th>\n",
              "      <th>Property_Area</th>\n",
              "      <th>Loan_Status</th>\n",
              "      <th>Rural_Area</th>\n",
              "      <th>Urban_Area</th>\n",
              "      <th>Semiurban_Area</th>\n",
              "    </tr>\n",
              "  </thead>\n",
              "  <tbody>\n",
              "    <tr>\n",
              "      <th>0</th>\n",
              "      <td>1</td>\n",
              "      <td>0</td>\n",
              "      <td>0</td>\n",
              "      <td>0</td>\n",
              "      <td>0</td>\n",
              "      <td>5849</td>\n",
              "      <td>0.0</td>\n",
              "      <td>128.0</td>\n",
              "      <td>360.0</td>\n",
              "      <td>1.0</td>\n",
              "      <td>2</td>\n",
              "      <td>1</td>\n",
              "      <td>0</td>\n",
              "      <td>1</td>\n",
              "      <td>0</td>\n",
              "    </tr>\n",
              "    <tr>\n",
              "      <th>1</th>\n",
              "      <td>1</td>\n",
              "      <td>1</td>\n",
              "      <td>1</td>\n",
              "      <td>0</td>\n",
              "      <td>0</td>\n",
              "      <td>4583</td>\n",
              "      <td>1508.0</td>\n",
              "      <td>128.0</td>\n",
              "      <td>360.0</td>\n",
              "      <td>1.0</td>\n",
              "      <td>0</td>\n",
              "      <td>0</td>\n",
              "      <td>1</td>\n",
              "      <td>0</td>\n",
              "      <td>0</td>\n",
              "    </tr>\n",
              "    <tr>\n",
              "      <th>2</th>\n",
              "      <td>1</td>\n",
              "      <td>1</td>\n",
              "      <td>0</td>\n",
              "      <td>0</td>\n",
              "      <td>1</td>\n",
              "      <td>3000</td>\n",
              "      <td>0.0</td>\n",
              "      <td>66.0</td>\n",
              "      <td>360.0</td>\n",
              "      <td>1.0</td>\n",
              "      <td>2</td>\n",
              "      <td>1</td>\n",
              "      <td>0</td>\n",
              "      <td>1</td>\n",
              "      <td>0</td>\n",
              "    </tr>\n",
              "    <tr>\n",
              "      <th>3</th>\n",
              "      <td>1</td>\n",
              "      <td>1</td>\n",
              "      <td>0</td>\n",
              "      <td>1</td>\n",
              "      <td>0</td>\n",
              "      <td>2583</td>\n",
              "      <td>2358.0</td>\n",
              "      <td>120.0</td>\n",
              "      <td>360.0</td>\n",
              "      <td>1.0</td>\n",
              "      <td>2</td>\n",
              "      <td>1</td>\n",
              "      <td>0</td>\n",
              "      <td>1</td>\n",
              "      <td>0</td>\n",
              "    </tr>\n",
              "    <tr>\n",
              "      <th>4</th>\n",
              "      <td>1</td>\n",
              "      <td>0</td>\n",
              "      <td>0</td>\n",
              "      <td>0</td>\n",
              "      <td>0</td>\n",
              "      <td>6000</td>\n",
              "      <td>0.0</td>\n",
              "      <td>141.0</td>\n",
              "      <td>360.0</td>\n",
              "      <td>1.0</td>\n",
              "      <td>2</td>\n",
              "      <td>1</td>\n",
              "      <td>0</td>\n",
              "      <td>1</td>\n",
              "      <td>0</td>\n",
              "    </tr>\n",
              "    <tr>\n",
              "      <th>...</th>\n",
              "      <td>...</td>\n",
              "      <td>...</td>\n",
              "      <td>...</td>\n",
              "      <td>...</td>\n",
              "      <td>...</td>\n",
              "      <td>...</td>\n",
              "      <td>...</td>\n",
              "      <td>...</td>\n",
              "      <td>...</td>\n",
              "      <td>...</td>\n",
              "      <td>...</td>\n",
              "      <td>...</td>\n",
              "      <td>...</td>\n",
              "      <td>...</td>\n",
              "      <td>...</td>\n",
              "    </tr>\n",
              "    <tr>\n",
              "      <th>609</th>\n",
              "      <td>0</td>\n",
              "      <td>0</td>\n",
              "      <td>0</td>\n",
              "      <td>0</td>\n",
              "      <td>0</td>\n",
              "      <td>2900</td>\n",
              "      <td>0.0</td>\n",
              "      <td>71.0</td>\n",
              "      <td>360.0</td>\n",
              "      <td>1.0</td>\n",
              "      <td>0</td>\n",
              "      <td>1</td>\n",
              "      <td>1</td>\n",
              "      <td>0</td>\n",
              "      <td>0</td>\n",
              "    </tr>\n",
              "    <tr>\n",
              "      <th>610</th>\n",
              "      <td>1</td>\n",
              "      <td>1</td>\n",
              "      <td>3</td>\n",
              "      <td>0</td>\n",
              "      <td>0</td>\n",
              "      <td>4106</td>\n",
              "      <td>0.0</td>\n",
              "      <td>40.0</td>\n",
              "      <td>180.0</td>\n",
              "      <td>1.0</td>\n",
              "      <td>0</td>\n",
              "      <td>1</td>\n",
              "      <td>1</td>\n",
              "      <td>0</td>\n",
              "      <td>0</td>\n",
              "    </tr>\n",
              "    <tr>\n",
              "      <th>611</th>\n",
              "      <td>1</td>\n",
              "      <td>1</td>\n",
              "      <td>1</td>\n",
              "      <td>0</td>\n",
              "      <td>0</td>\n",
              "      <td>8072</td>\n",
              "      <td>240.0</td>\n",
              "      <td>253.0</td>\n",
              "      <td>360.0</td>\n",
              "      <td>1.0</td>\n",
              "      <td>2</td>\n",
              "      <td>1</td>\n",
              "      <td>0</td>\n",
              "      <td>1</td>\n",
              "      <td>0</td>\n",
              "    </tr>\n",
              "    <tr>\n",
              "      <th>612</th>\n",
              "      <td>1</td>\n",
              "      <td>1</td>\n",
              "      <td>2</td>\n",
              "      <td>0</td>\n",
              "      <td>0</td>\n",
              "      <td>7583</td>\n",
              "      <td>0.0</td>\n",
              "      <td>187.0</td>\n",
              "      <td>360.0</td>\n",
              "      <td>1.0</td>\n",
              "      <td>2</td>\n",
              "      <td>1</td>\n",
              "      <td>0</td>\n",
              "      <td>1</td>\n",
              "      <td>0</td>\n",
              "    </tr>\n",
              "    <tr>\n",
              "      <th>613</th>\n",
              "      <td>0</td>\n",
              "      <td>0</td>\n",
              "      <td>0</td>\n",
              "      <td>0</td>\n",
              "      <td>1</td>\n",
              "      <td>4583</td>\n",
              "      <td>0.0</td>\n",
              "      <td>133.0</td>\n",
              "      <td>360.0</td>\n",
              "      <td>0.0</td>\n",
              "      <td>1</td>\n",
              "      <td>0</td>\n",
              "      <td>0</td>\n",
              "      <td>0</td>\n",
              "      <td>1</td>\n",
              "    </tr>\n",
              "  </tbody>\n",
              "</table>\n",
              "<p>614 rows × 15 columns</p>\n",
              "</div>"
            ],
            "text/plain": [
              "     Gender  Married  Dependents  Education  Self_Employed  ApplicantIncome  \\\n",
              "0         1        0           0          0              0             5849   \n",
              "1         1        1           1          0              0             4583   \n",
              "2         1        1           0          0              1             3000   \n",
              "3         1        1           0          1              0             2583   \n",
              "4         1        0           0          0              0             6000   \n",
              "..      ...      ...         ...        ...            ...              ...   \n",
              "609       0        0           0          0              0             2900   \n",
              "610       1        1           3          0              0             4106   \n",
              "611       1        1           1          0              0             8072   \n",
              "612       1        1           2          0              0             7583   \n",
              "613       0        0           0          0              1             4583   \n",
              "\n",
              "     CoapplicantIncome  LoanAmount  Loan_Amount_Term  Credit_History  \\\n",
              "0                  0.0       128.0             360.0             1.0   \n",
              "1               1508.0       128.0             360.0             1.0   \n",
              "2                  0.0        66.0             360.0             1.0   \n",
              "3               2358.0       120.0             360.0             1.0   \n",
              "4                  0.0       141.0             360.0             1.0   \n",
              "..                 ...         ...               ...             ...   \n",
              "609                0.0        71.0             360.0             1.0   \n",
              "610                0.0        40.0             180.0             1.0   \n",
              "611              240.0       253.0             360.0             1.0   \n",
              "612                0.0       187.0             360.0             1.0   \n",
              "613                0.0       133.0             360.0             0.0   \n",
              "\n",
              "     Property_Area  Loan_Status  Rural_Area  Urban_Area  Semiurban_Area  \n",
              "0                2            1           0           1               0  \n",
              "1                0            0           1           0               0  \n",
              "2                2            1           0           1               0  \n",
              "3                2            1           0           1               0  \n",
              "4                2            1           0           1               0  \n",
              "..             ...          ...         ...         ...             ...  \n",
              "609              0            1           1           0               0  \n",
              "610              0            1           1           0               0  \n",
              "611              2            1           0           1               0  \n",
              "612              2            1           0           1               0  \n",
              "613              1            0           0           0               1  \n",
              "\n",
              "[614 rows x 15 columns]"
            ]
          },
          "execution_count": 11,
          "metadata": {},
          "output_type": "execute_result"
        }
      ],
      "source": [
        "#Create new column to split property area for better result\n",
        "loan_df[\"Rural_Area\"]= np.where(loan_df[\"Property_Area\"] == 0, 1,0) #where property area is 0, give 1 else 0\n",
        "loan_df[\"Urban_Area\"]= np.where(loan_df[\"Property_Area\"] == 2, 1,0) #where property area is 2, give 1 else 0\n",
        "loan_df[\"Semiurban_Area\"]= np.where(loan_df[\"Property_Area\"] == 1, 1,0) #where property area is 1, give 1 else 0\n",
        "loan_df"
      ]
    },
    {
      "cell_type": "markdown",
      "id": "71bf7037",
      "metadata": {
        "id": "71bf7037"
      },
      "source": [
        "Gender and Education should be splitted to have a better respresentation. Such as male gender column and female gender column."
      ]
    },
    {
      "cell_type": "code",
      "execution_count": null,
      "id": "9a160088",
      "metadata": {
        "id": "9a160088",
        "outputId": "a2062734-82bd-4fb8-bf84-1e2c84517b3f"
      },
      "outputs": [
        {
          "data": {
            "text/html": [
              "<div>\n",
              "<style scoped>\n",
              "    .dataframe tbody tr th:only-of-type {\n",
              "        vertical-align: middle;\n",
              "    }\n",
              "\n",
              "    .dataframe tbody tr th {\n",
              "        vertical-align: top;\n",
              "    }\n",
              "\n",
              "    .dataframe thead th {\n",
              "        text-align: right;\n",
              "    }\n",
              "</style>\n",
              "<table border=\"1\" class=\"dataframe\">\n",
              "  <thead>\n",
              "    <tr style=\"text-align: right;\">\n",
              "      <th></th>\n",
              "      <th>Gender</th>\n",
              "      <th>Married</th>\n",
              "      <th>Dependents</th>\n",
              "      <th>Education</th>\n",
              "      <th>Self_Employed</th>\n",
              "      <th>ApplicantIncome</th>\n",
              "      <th>CoapplicantIncome</th>\n",
              "      <th>LoanAmount</th>\n",
              "      <th>Loan_Amount_Term</th>\n",
              "      <th>Credit_History</th>\n",
              "      <th>Property_Area</th>\n",
              "      <th>Loan_Status</th>\n",
              "      <th>Rural_Area</th>\n",
              "      <th>Urban_Area</th>\n",
              "      <th>Semiurban_Area</th>\n",
              "      <th>Female_Gender</th>\n",
              "      <th>Male_Gender</th>\n",
              "    </tr>\n",
              "  </thead>\n",
              "  <tbody>\n",
              "    <tr>\n",
              "      <th>0</th>\n",
              "      <td>1</td>\n",
              "      <td>0</td>\n",
              "      <td>0</td>\n",
              "      <td>0</td>\n",
              "      <td>0</td>\n",
              "      <td>5849</td>\n",
              "      <td>0.0</td>\n",
              "      <td>128.0</td>\n",
              "      <td>360.0</td>\n",
              "      <td>1.0</td>\n",
              "      <td>2</td>\n",
              "      <td>1</td>\n",
              "      <td>0</td>\n",
              "      <td>1</td>\n",
              "      <td>0</td>\n",
              "      <td>0</td>\n",
              "      <td>1</td>\n",
              "    </tr>\n",
              "    <tr>\n",
              "      <th>1</th>\n",
              "      <td>1</td>\n",
              "      <td>1</td>\n",
              "      <td>1</td>\n",
              "      <td>0</td>\n",
              "      <td>0</td>\n",
              "      <td>4583</td>\n",
              "      <td>1508.0</td>\n",
              "      <td>128.0</td>\n",
              "      <td>360.0</td>\n",
              "      <td>1.0</td>\n",
              "      <td>0</td>\n",
              "      <td>0</td>\n",
              "      <td>1</td>\n",
              "      <td>0</td>\n",
              "      <td>0</td>\n",
              "      <td>0</td>\n",
              "      <td>1</td>\n",
              "    </tr>\n",
              "    <tr>\n",
              "      <th>2</th>\n",
              "      <td>1</td>\n",
              "      <td>1</td>\n",
              "      <td>0</td>\n",
              "      <td>0</td>\n",
              "      <td>1</td>\n",
              "      <td>3000</td>\n",
              "      <td>0.0</td>\n",
              "      <td>66.0</td>\n",
              "      <td>360.0</td>\n",
              "      <td>1.0</td>\n",
              "      <td>2</td>\n",
              "      <td>1</td>\n",
              "      <td>0</td>\n",
              "      <td>1</td>\n",
              "      <td>0</td>\n",
              "      <td>0</td>\n",
              "      <td>1</td>\n",
              "    </tr>\n",
              "    <tr>\n",
              "      <th>3</th>\n",
              "      <td>1</td>\n",
              "      <td>1</td>\n",
              "      <td>0</td>\n",
              "      <td>1</td>\n",
              "      <td>0</td>\n",
              "      <td>2583</td>\n",
              "      <td>2358.0</td>\n",
              "      <td>120.0</td>\n",
              "      <td>360.0</td>\n",
              "      <td>1.0</td>\n",
              "      <td>2</td>\n",
              "      <td>1</td>\n",
              "      <td>0</td>\n",
              "      <td>1</td>\n",
              "      <td>0</td>\n",
              "      <td>0</td>\n",
              "      <td>1</td>\n",
              "    </tr>\n",
              "    <tr>\n",
              "      <th>4</th>\n",
              "      <td>1</td>\n",
              "      <td>0</td>\n",
              "      <td>0</td>\n",
              "      <td>0</td>\n",
              "      <td>0</td>\n",
              "      <td>6000</td>\n",
              "      <td>0.0</td>\n",
              "      <td>141.0</td>\n",
              "      <td>360.0</td>\n",
              "      <td>1.0</td>\n",
              "      <td>2</td>\n",
              "      <td>1</td>\n",
              "      <td>0</td>\n",
              "      <td>1</td>\n",
              "      <td>0</td>\n",
              "      <td>0</td>\n",
              "      <td>1</td>\n",
              "    </tr>\n",
              "    <tr>\n",
              "      <th>...</th>\n",
              "      <td>...</td>\n",
              "      <td>...</td>\n",
              "      <td>...</td>\n",
              "      <td>...</td>\n",
              "      <td>...</td>\n",
              "      <td>...</td>\n",
              "      <td>...</td>\n",
              "      <td>...</td>\n",
              "      <td>...</td>\n",
              "      <td>...</td>\n",
              "      <td>...</td>\n",
              "      <td>...</td>\n",
              "      <td>...</td>\n",
              "      <td>...</td>\n",
              "      <td>...</td>\n",
              "      <td>...</td>\n",
              "      <td>...</td>\n",
              "    </tr>\n",
              "    <tr>\n",
              "      <th>609</th>\n",
              "      <td>0</td>\n",
              "      <td>0</td>\n",
              "      <td>0</td>\n",
              "      <td>0</td>\n",
              "      <td>0</td>\n",
              "      <td>2900</td>\n",
              "      <td>0.0</td>\n",
              "      <td>71.0</td>\n",
              "      <td>360.0</td>\n",
              "      <td>1.0</td>\n",
              "      <td>0</td>\n",
              "      <td>1</td>\n",
              "      <td>1</td>\n",
              "      <td>0</td>\n",
              "      <td>0</td>\n",
              "      <td>1</td>\n",
              "      <td>0</td>\n",
              "    </tr>\n",
              "    <tr>\n",
              "      <th>610</th>\n",
              "      <td>1</td>\n",
              "      <td>1</td>\n",
              "      <td>3</td>\n",
              "      <td>0</td>\n",
              "      <td>0</td>\n",
              "      <td>4106</td>\n",
              "      <td>0.0</td>\n",
              "      <td>40.0</td>\n",
              "      <td>180.0</td>\n",
              "      <td>1.0</td>\n",
              "      <td>0</td>\n",
              "      <td>1</td>\n",
              "      <td>1</td>\n",
              "      <td>0</td>\n",
              "      <td>0</td>\n",
              "      <td>0</td>\n",
              "      <td>1</td>\n",
              "    </tr>\n",
              "    <tr>\n",
              "      <th>611</th>\n",
              "      <td>1</td>\n",
              "      <td>1</td>\n",
              "      <td>1</td>\n",
              "      <td>0</td>\n",
              "      <td>0</td>\n",
              "      <td>8072</td>\n",
              "      <td>240.0</td>\n",
              "      <td>253.0</td>\n",
              "      <td>360.0</td>\n",
              "      <td>1.0</td>\n",
              "      <td>2</td>\n",
              "      <td>1</td>\n",
              "      <td>0</td>\n",
              "      <td>1</td>\n",
              "      <td>0</td>\n",
              "      <td>0</td>\n",
              "      <td>1</td>\n",
              "    </tr>\n",
              "    <tr>\n",
              "      <th>612</th>\n",
              "      <td>1</td>\n",
              "      <td>1</td>\n",
              "      <td>2</td>\n",
              "      <td>0</td>\n",
              "      <td>0</td>\n",
              "      <td>7583</td>\n",
              "      <td>0.0</td>\n",
              "      <td>187.0</td>\n",
              "      <td>360.0</td>\n",
              "      <td>1.0</td>\n",
              "      <td>2</td>\n",
              "      <td>1</td>\n",
              "      <td>0</td>\n",
              "      <td>1</td>\n",
              "      <td>0</td>\n",
              "      <td>0</td>\n",
              "      <td>1</td>\n",
              "    </tr>\n",
              "    <tr>\n",
              "      <th>613</th>\n",
              "      <td>0</td>\n",
              "      <td>0</td>\n",
              "      <td>0</td>\n",
              "      <td>0</td>\n",
              "      <td>1</td>\n",
              "      <td>4583</td>\n",
              "      <td>0.0</td>\n",
              "      <td>133.0</td>\n",
              "      <td>360.0</td>\n",
              "      <td>0.0</td>\n",
              "      <td>1</td>\n",
              "      <td>0</td>\n",
              "      <td>0</td>\n",
              "      <td>0</td>\n",
              "      <td>1</td>\n",
              "      <td>1</td>\n",
              "      <td>0</td>\n",
              "    </tr>\n",
              "  </tbody>\n",
              "</table>\n",
              "<p>614 rows × 17 columns</p>\n",
              "</div>"
            ],
            "text/plain": [
              "     Gender  Married  Dependents  Education  Self_Employed  ApplicantIncome  \\\n",
              "0         1        0           0          0              0             5849   \n",
              "1         1        1           1          0              0             4583   \n",
              "2         1        1           0          0              1             3000   \n",
              "3         1        1           0          1              0             2583   \n",
              "4         1        0           0          0              0             6000   \n",
              "..      ...      ...         ...        ...            ...              ...   \n",
              "609       0        0           0          0              0             2900   \n",
              "610       1        1           3          0              0             4106   \n",
              "611       1        1           1          0              0             8072   \n",
              "612       1        1           2          0              0             7583   \n",
              "613       0        0           0          0              1             4583   \n",
              "\n",
              "     CoapplicantIncome  LoanAmount  Loan_Amount_Term  Credit_History  \\\n",
              "0                  0.0       128.0             360.0             1.0   \n",
              "1               1508.0       128.0             360.0             1.0   \n",
              "2                  0.0        66.0             360.0             1.0   \n",
              "3               2358.0       120.0             360.0             1.0   \n",
              "4                  0.0       141.0             360.0             1.0   \n",
              "..                 ...         ...               ...             ...   \n",
              "609                0.0        71.0             360.0             1.0   \n",
              "610                0.0        40.0             180.0             1.0   \n",
              "611              240.0       253.0             360.0             1.0   \n",
              "612                0.0       187.0             360.0             1.0   \n",
              "613                0.0       133.0             360.0             0.0   \n",
              "\n",
              "     Property_Area  Loan_Status  Rural_Area  Urban_Area  Semiurban_Area  \\\n",
              "0                2            1           0           1               0   \n",
              "1                0            0           1           0               0   \n",
              "2                2            1           0           1               0   \n",
              "3                2            1           0           1               0   \n",
              "4                2            1           0           1               0   \n",
              "..             ...          ...         ...         ...             ...   \n",
              "609              0            1           1           0               0   \n",
              "610              0            1           1           0               0   \n",
              "611              2            1           0           1               0   \n",
              "612              2            1           0           1               0   \n",
              "613              1            0           0           0               1   \n",
              "\n",
              "     Female_Gender  Male_Gender  \n",
              "0                0            1  \n",
              "1                0            1  \n",
              "2                0            1  \n",
              "3                0            1  \n",
              "4                0            1  \n",
              "..             ...          ...  \n",
              "609              1            0  \n",
              "610              0            1  \n",
              "611              0            1  \n",
              "612              0            1  \n",
              "613              1            0  \n",
              "\n",
              "[614 rows x 17 columns]"
            ]
          },
          "execution_count": 14,
          "metadata": {},
          "output_type": "execute_result"
        }
      ],
      "source": [
        "#create ne column to split gender\n",
        "loan_df[\"Female_Gender\"]= np.where(loan_df[\"Gender\"] == 0, 1,0) #where gender is 0, give 1 else 0\n",
        "loan_df[\"Male_Gender\"]= np.where(loan_df[\"Gender\"] == 1, 1,0) #where gender is 1, give 1 else 0\n",
        "loan_df[\"Education\"]= np.where(loan_df[\"Education\"] == 0, 1,0) #Educated as 1, not educated as 0\n",
        "loan_df"
      ]
    },
    {
      "cell_type": "code",
      "execution_count": null,
      "id": "a63a5fbf",
      "metadata": {
        "id": "a63a5fbf"
      },
      "outputs": [],
      "source": [
        "#Now remove Property Area and Gender\n",
        "loan_df1=loan_df.drop('Property_Area',axis=1)\n",
        "loan_df=loan_df1.drop('Gender',axis=1)"
      ]
    },
    {
      "cell_type": "markdown",
      "id": "d3d51316",
      "metadata": {
        "id": "d3d51316"
      },
      "source": [
        "#### Correlation\n",
        "Checked correlation to see the relationship between Loan Status and the remaining variables.\n",
        "The result can be interpreted as;\n",
        "A correlation of 0.9 to 1 shows a very strong relationship.\n",
        "A strong correlation is defined as 0.7 to 0.9 positive or negative.\n",
        "A moderate correlation is defined as a positive or negative correlation of 0.5 to 0.7.\n",
        "A weak correlation is defined as a positive or negative correlation of 0.3 to 0.5.\n",
        "A insignificant correlation is defined as a positive or negative correlation of 0 to 0.3."
      ]
    },
    {
      "cell_type": "code",
      "execution_count": null,
      "id": "9d3bbd16",
      "metadata": {
        "id": "9d3bbd16",
        "outputId": "90d04296-0654-4406-9642-9cfa65b08f05"
      },
      "outputs": [
        {
          "data": {
            "text/plain": [
              "Loan_Status          1.000000\n",
              "Credit_History       0.540556\n",
              "Semiurban_Area       0.136540\n",
              "Married              0.091478\n",
              "Male_Gender          0.017987\n",
              "Dependents           0.010118\n",
              "Self_Employed       -0.003700\n",
              "ApplicantIncome     -0.004710\n",
              "Female_Gender       -0.017987\n",
              "Loan_Amount_Term    -0.022549\n",
              "LoanAmount          -0.033214\n",
              "Urban_Area          -0.043621\n",
              "CoapplicantIncome   -0.059187\n",
              "Education           -0.085884\n",
              "Rural_Area          -0.100694\n",
              "Name: Loan_Status, dtype: float64"
            ]
          },
          "execution_count": 16,
          "metadata": {},
          "output_type": "execute_result"
        }
      ],
      "source": [
        "# Most correlated values is: 1) Credit_History 2) Semiurban_Area 3) Rural Area\n",
        "corr_train = loan_df.corr()\n",
        "corr_train['Loan_Status'].sort_values(ascending=False)"
      ]
    },
    {
      "cell_type": "code",
      "execution_count": null,
      "id": "0f8db681",
      "metadata": {
        "scrolled": true,
        "id": "0f8db681",
        "outputId": "a97609a1-b3d5-4d41-dd6e-4a78d32c9267"
      },
      "outputs": [
        {
          "data": {
            "text/plain": [
              "<AxesSubplot:>"
            ]
          },
          "execution_count": 17,
          "metadata": {},
          "output_type": "execute_result"
        },
        {
          "data": {
            "image/png": "[encoded data removed]",
            "text/plain": [
              "<Figure size 720x360 with 2 Axes>"
            ]
          },
          "metadata": {
            "needs_background": "light"
          },
          "output_type": "display_data"
        }
      ],
      "source": [
        "#visualise correlation\n",
        "fig, ax = plt.subplots(figsize=(10,5))\n",
        "sns.heatmap(corr_train, annot = True)"
      ]
    },
    {
      "cell_type": "markdown",
      "id": "202f2a13",
      "metadata": {
        "id": "202f2a13"
      },
      "source": [
        "## Methodology\n",
        "---\n",
        "#### Training and Testing\n",
        "A dataset is often divided into a training set and a testing set, with most of the data utilised for training and a lesser number for testing. The system produces a prediction against the test set after processing the training set. The dataset was first broken into two parts: 70% for training and 30% for testing the model. The accuracy of six algorithms was then compared to find a better and more accurate algorithm."
      ]
    },
    {
      "cell_type": "code",
      "execution_count": null,
      "id": "4b7e40cd",
      "metadata": {
        "id": "4b7e40cd"
      },
      "outputs": [],
      "source": [
        "X = loan_df.drop(columns=['Loan_Status'], axis=1) #Use all features as predictor except Loan status\n",
        "y = loan_df['Loan_Status'] #target variable\n",
        "#make data balanced\n",
        "from imblearn import under_sampling, over_sampling\n",
        "from imblearn.over_sampling import RandomOverSampler\n",
        "from imblearn.combine import SMOTEENN\n",
        "SMOTENN = SMOTEENN()\n",
        "X,y = SMOTENN.fit_resample(X,y)\n",
        "#ros = RandomOverSampler (random_state = 42)\n",
        "#X, y = ros.fit_resample(X,y)"
      ]
    },
    {
      "cell_type": "code",
      "execution_count": null,
      "id": "ca6b6680",
      "metadata": {
        "id": "ca6b6680"
      },
      "outputs": [],
      "source": [
        "#Split train=70% and test=30% of our data\n",
        "from sklearn.model_selection import train_test_split\n",
        "x_train, x_test, y_train, y_test = train_test_split(X, y, test_size=0.3, random_state=42)\n",
        "#Import scalar to tranform data into scale data for \n",
        "from sklearn.preprocessing import StandardScaler\n",
        "sc = StandardScaler()\n",
        "#Scaling X\n",
        "X_train_scaled = sc.fit_transform(x_train)\n",
        "X_test_scaled = sc.fit_transform(x_test)\n",
        "# Import accuracy metrics to check the accuracy of each prediction\n",
        "from sklearn.metrics import accuracy_score, confusion_matrix, f1_score,classification_report, roc_curve"
      ]
    },
    {
      "cell_type": "markdown",
      "id": "5891f8b3",
      "metadata": {
        "id": "5891f8b3"
      },
      "source": [
        "#### Confusion Matrix\n",
        "A confusion matrix is a summary of classification problem prediction outcomes.\n",
        "\n",
        "The number of right and incorrect predictions is broken down by class and summarised with count values.\n",
        "\n",
        "“true positive” for correctly predicted event values.\n",
        "“false positive” for incorrectly predicted event values.\n",
        "“true negative” for correctly predicted no-event values.\n",
        "“false negative” for incorrectly predicted no-event values."
      ]
    },
    {
      "cell_type": "markdown",
      "id": "2d561264",
      "metadata": {
        "id": "2d561264"
      },
      "source": [
        "#### Model Used\n",
        "**Logistic Regression**: The Python Scikit-learn module provided the Logistic Regression model. Logistic Regression is a statistical model and a classification algorithm. Given a set of independent variables, it is used to predict a binary outcome (1/0, Yes/No, True/False). In this case, it was used to predict the eligibility of customers loan status. If yes or no request for loan will be granted. All variables were evaluated in this report."
      ]
    },
    {
      "cell_type": "code",
      "execution_count": null,
      "id": "2f2f8266",
      "metadata": {
        "id": "2f2f8266",
        "outputId": "28808b10-0c57-4606-d8ca-60c6c2afcd6b"
      },
      "outputs": [
        {
          "name": "stdout",
          "output_type": "stream",
          "text": [
            "              precision    recall  f1-score   support\n",
            "\n",
            "           0       1.00      0.70      0.82        40\n",
            "           1       0.76      1.00      0.86        38\n",
            "\n",
            "    accuracy                           0.85        78\n",
            "   macro avg       0.88      0.85      0.84        78\n",
            "weighted avg       0.88      0.85      0.84        78\n",
            "\n",
            "Accuracy Score of Logistic Regression:  0.8461538461538461\n"
          ]
        },
        {
          "data": {
            "text/plain": [
              "<AxesSubplot:>"
            ]
          },
          "execution_count": 20,
          "metadata": {},
          "output_type": "execute_result"
        },
        {
          "data": {
            "image/png": "[encoded data removed]",
            "text/plain": [
              "<Figure size 576x288 with 2 Axes>"
            ]
          },
          "metadata": {
            "needs_background": "light"
          },
          "output_type": "display_data"
        }
      ],
      "source": [
        "#Import LogisticRegression \n",
        "from sklearn.linear_model import LogisticRegression\n",
        "logreg = LogisticRegression()\n",
        "logreg.fit(X_train_scaled, y_train) #to learn and store the dataset\n",
        "logreg_pred = logreg.predict(X_test_scaled) # predict loan status for test data set\n",
        "print(classification_report(y_test, logreg_pred)) #print classification report\n",
        "LR_SC = accuracy_score(logreg_pred,y_test)\n",
        "print('Accuracy Score of Logistic Regression: ', accuracy_score(y_test, logreg_pred)) #print accuracy score\n",
        "matrix4=confusion_matrix(y_test, logreg_pred) #confusion matrix\n",
        "plt.figure(figsize = (8,4))\n",
        "sns.heatmap(matrix4 , annot = True, cmap=\"Blues\") #visualise confusion matrix"
      ]
    },
    {
      "cell_type": "markdown",
      "id": "f53860bd",
      "metadata": {
        "id": "f53860bd"
      },
      "source": [
        "The accuracy score using logistic regression is 85%. \n",
        "On the vertical axis of the matrix represents the actual axis and the horizontal represents the predicted axis. '0' means Negative and '1' means positive.\n",
        "Hence,\n",
        "1. 00- True Negative = 28\n",
        "1. 01- False Positive = 12\n",
        "1. 10- False Negative = 0\n",
        "1. 11- True Positive = 38"
      ]
    },
    {
      "cell_type": "markdown",
      "id": "854a9173",
      "metadata": {
        "id": "854a9173"
      },
      "source": [
        "**K- Nearest Neighbour**:  The k-Nearest Neighbours algorithm, sometimes known as KNN, is a straightforward method. It is possible to save the whole training dataset. When making a prediction, the k-most comparable records to a new record from the training dataset are found. A summary prediction is created based on these neighbours. The summary forecast can be made by returning the most common outcome or taking the average once the neighbours have been located. As a result, KNN can be utilised to solve problems involving classification or regression. To make a prediction, all variables were considered."
      ]
    },
    {
      "cell_type": "code",
      "execution_count": null,
      "id": "b4ab7b5c",
      "metadata": {
        "id": "b4ab7b5c",
        "outputId": "62bd8c55-a5f1-4fab-cf08-12bad1ae4ebf"
      },
      "outputs": [
        {
          "name": "stdout",
          "output_type": "stream",
          "text": [
            "              precision    recall  f1-score   support\n",
            "\n",
            "           0       0.83      0.72      0.77        40\n",
            "           1       0.74      0.84      0.79        38\n",
            "\n",
            "    accuracy                           0.78        78\n",
            "   macro avg       0.79      0.78      0.78        78\n",
            "weighted avg       0.79      0.78      0.78        78\n",
            "\n",
            "Accuracy_Score of KNeighbors Classifier:  0.782051282051282\n"
          ]
        },
        {
          "data": {
            "text/plain": [
              "<AxesSubplot:>"
            ]
          },
          "execution_count": 21,
          "metadata": {},
          "output_type": "execute_result"
        },
        {
          "data": {
            "image/png": "[encoded data removed]",
            "text/plain": [
              "<Figure size 576x288 with 2 Axes>"
            ]
          },
          "metadata": {
            "needs_background": "light"
          },
          "output_type": "display_data"
        }
      ],
      "source": [
        "#Test the algorithm on the test dataset for prediction\n",
        "from sklearn.neighbors import KNeighborsClassifier\n",
        "knn = KNeighborsClassifier(n_neighbors=7)\n",
        "knn.fit(X_train_scaled,y_train) #to learn and store the dataset\n",
        "knn_pred = knn.predict(X_test_scaled) # predict loan status for test data set\n",
        "print(classification_report(y_test, knn_pred)) #print classification report\n",
        "KN_SC = accuracy_score(knn_pred,y_test)\n",
        "print('Accuracy_Score of KNeighbors Classifier: ', accuracy_score(y_test, knn_pred)) #print accuracy score\n",
        "matrix1=confusion_matrix(y_test, knn_pred) #confusion matrix\n",
        "plt.figure(figsize = (8,4))\n",
        "sns.heatmap(matrix1 , annot = True, cmap=\"Blues\") #visualise confusion matrix"
      ]
    },
    {
      "cell_type": "markdown",
      "id": "7fa7ef0e",
      "metadata": {
        "id": "7fa7ef0e"
      },
      "source": [
        "The accuracy score using KNN is **78%**. "
      ]
    },
    {
      "cell_type": "markdown",
      "id": "0f89899e",
      "metadata": {
        "id": "0f89899e"
      },
      "source": [
        "**Support Vector Machine**: The \"Support Vector Machine\" (SVM) is a supervised machine learning algorithm that can be used for classification and regression tasks. It is, however, mostly used in classification problems. Each data item in the SVM algorithm is plotted as a point in n-dimensional space (where n is the number of features you have), with the value of each feature being the value of a specific coordinate.\n"
      ]
    },
    {
      "cell_type": "code",
      "execution_count": null,
      "id": "79afda13",
      "metadata": {
        "id": "79afda13",
        "outputId": "17fa4f29-087f-4f62-f0a1-d4191ebc72c6"
      },
      "outputs": [
        {
          "name": "stdout",
          "output_type": "stream",
          "text": [
            "              precision    recall  f1-score   support\n",
            "\n",
            "           0       1.00      0.75      0.86        40\n",
            "           1       0.79      1.00      0.88        38\n",
            "\n",
            "    accuracy                           0.87        78\n",
            "   macro avg       0.90      0.88      0.87        78\n",
            "weighted avg       0.90      0.87      0.87        78\n",
            "\n",
            "Accuracy Score of Super Vector Machine:  0.8717948717948718\n"
          ]
        },
        {
          "data": {
            "text/plain": [
              "<AxesSubplot:>"
            ]
          },
          "execution_count": 22,
          "metadata": {},
          "output_type": "execute_result"
        },
        {
          "data": {
            "image/png": "[encoded data removed]",
            "text/plain": [
              "<Figure size 576x288 with 2 Axes>"
            ]
          },
          "metadata": {
            "needs_background": "light"
          },
          "output_type": "display_data"
        }
      ],
      "source": [
        "#import SVC\n",
        "from sklearn.svm import SVC\n",
        "svm = SVC()\n",
        "svm.fit(X_train_scaled, y_train)\n",
        "svm_pred = svm.predict(X_test_scaled)\n",
        "print(classification_report(y_test, svm_pred))\n",
        "SVM_SC = accuracy_score(svm_pred,y_test)\n",
        "print('Accuracy Score of Super Vector Machine: ', accuracy_score(y_test, svm_pred))\n",
        "matrix6=confusion_matrix(y_test, svm_pred)\n",
        "plt.figure(figsize = (8,4))\n",
        "sns.heatmap(matrix6 , annot = True, cmap=\"Blues\")"
      ]
    },
    {
      "cell_type": "markdown",
      "id": "aa97f112",
      "metadata": {
        "id": "aa97f112"
      },
      "source": [
        "The accuracy score using SVM is **87%**. "
      ]
    },
    {
      "cell_type": "markdown",
      "id": "23cfda92",
      "metadata": {
        "id": "23cfda92"
      },
      "source": [
        "**Decision Trees**: Decision trees, like the methods previously discussed, are a non- parametric supervised learning method for classification and regression. The goal is to learn simple decision rules from data attributes to develop a model that predicts the value of a target variable. The initial step was to use Scikit-Learn to import the relevant libraries and construct a variable for the decision tree classifier. The data is subsequently fitted to train the decision tree model, which is then used to predict the test data."
      ]
    },
    {
      "cell_type": "code",
      "execution_count": null,
      "id": "42b7fdac",
      "metadata": {
        "id": "42b7fdac",
        "outputId": "85f69773-3d42-4cda-d05f-59560baeb6cb"
      },
      "outputs": [
        {
          "name": "stdout",
          "output_type": "stream",
          "text": [
            "              precision    recall  f1-score   support\n",
            "\n",
            "           0       0.79      0.85      0.82        40\n",
            "           1       0.83      0.76      0.79        38\n",
            "\n",
            "    accuracy                           0.81        78\n",
            "   macro avg       0.81      0.81      0.81        78\n",
            "weighted avg       0.81      0.81      0.81        78\n",
            "\n",
            "Accuracy_Score of Decision Tree:  0.8076923076923077\n"
          ]
        },
        {
          "data": {
            "text/plain": [
              "<AxesSubplot:>"
            ]
          },
          "execution_count": 24,
          "metadata": {},
          "output_type": "execute_result"
        },
        {
          "data": {
            "image/png": "[encoded data removed]",
            "text/plain": [
              "<Figure size 576x288 with 2 Axes>"
            ]
          },
          "metadata": {
            "needs_background": "light"
          },
          "output_type": "display_data"
        }
      ],
      "source": [
        "#Import Decision tree classifier with tree depth of 11\n",
        "from sklearn.tree import DecisionTreeClassifier\n",
        "dt = DecisionTreeClassifier(criterion= 'gini',max_depth=11 , random_state=42)\n",
        "dtfit = dt.fit(X_train_scaled,y_train)\n",
        "dt_pred = dt.predict(X_test_scaled)\n",
        "print(classification_report(y_test, dt_pred))\n",
        "DT_SC = accuracy_score(dt_pred,y_test)\n",
        "print('Accuracy_Score of Decision Tree: ', accuracy_score(y_test, dt_pred))\n",
        "matrix2=confusion_matrix(y_test, dt_pred)\n",
        "plt.figure(figsize = (8,4))\n",
        "sns.heatmap(matrix2 , annot = True, cmap=\"Blues\")"
      ]
    },
    {
      "cell_type": "markdown",
      "id": "8704ad8f",
      "metadata": {
        "id": "8704ad8f"
      },
      "source": [
        "The accuracy score using DTC is **81%**. "
      ]
    },
    {
      "cell_type": "markdown",
      "id": "c5a10a6d",
      "metadata": {
        "id": "c5a10a6d"
      },
      "source": [
        "**Random Forest**: Random Forest is a supervised machine learning algorithm that is commonly used to solve classification and regression problems. It creates decision trees from various samples, using the majority vote for classification and the average for regression. The first thing done was the use Scikit-Learn library to load the relevant libraries and construct a variable for the random forest classifier. The data was then fitted using the classifier's fit function, followed by prediction on the test data."
      ]
    },
    {
      "cell_type": "code",
      "execution_count": null,
      "id": "c9cc144b",
      "metadata": {
        "id": "c9cc144b",
        "outputId": "f72412d7-b197-437a-f464-8f72e30e23f2"
      },
      "outputs": [
        {
          "name": "stdout",
          "output_type": "stream",
          "text": [
            "              precision    recall  f1-score   support\n",
            "\n",
            "           0       0.97      0.88      0.92        40\n",
            "           1       0.88      0.97      0.93        38\n",
            "\n",
            "    accuracy                           0.92        78\n",
            "   macro avg       0.93      0.92      0.92        78\n",
            "weighted avg       0.93      0.92      0.92        78\n",
            "\n",
            "Accuracy Score of Random Forest Classifier:  0.9230769230769231\n"
          ]
        },
        {
          "data": {
            "text/plain": [
              "<AxesSubplot:>"
            ]
          },
          "execution_count": 26,
          "metadata": {},
          "output_type": "execute_result"
        },
        {
          "data": {
            "image/png": "[encoded data removed]",
            "text/plain": [
              "<Figure size 576x288 with 2 Axes>"
            ]
          },
          "metadata": {
            "needs_background": "light"
          },
          "output_type": "display_data"
        }
      ],
      "source": [
        "#Import RFC\n",
        "from sklearn.ensemble import RandomForestClassifier\n",
        "RF = RandomForestClassifier()\n",
        "RF.fit(X_train_scaled, y_train)\n",
        "RF_pred = RF.predict(X_test_scaled)\n",
        "print(classification_report(y_test, RF_pred))\n",
        "RF_SC = accuracy_score(RF_pred,y_test)\n",
        "print('Accuracy Score of Random Forest Classifier: ', accuracy_score(y_test, RF_pred))\n",
        "matrix3=confusion_matrix(y_test, RF_pred)\n",
        "plt.figure(figsize = (8,4))\n",
        "sns.heatmap(matrix3 , annot = True, cmap=\"Blues\")"
      ]
    },
    {
      "cell_type": "markdown",
      "id": "b95497c8",
      "metadata": {
        "id": "b95497c8"
      },
      "source": [
        "The accuracy score using RFC is **92%**. "
      ]
    },
    {
      "cell_type": "markdown",
      "id": "accf0659",
      "metadata": {
        "id": "accf0659"
      },
      "source": [
        "**Naïve Bayes**: It's a classification method based on Bayes' Theorem and the assumption of predictor independence. A Naive Bayes classifier, in simple terms, posits that the existence of one feature in a class is unrelated to the presence of any other feature."
      ]
    },
    {
      "cell_type": "code",
      "execution_count": null,
      "id": "7e8e0c08",
      "metadata": {
        "id": "7e8e0c08",
        "outputId": "ad8323f8-73aa-447c-821a-a7937d44f979"
      },
      "outputs": [
        {
          "name": "stdout",
          "output_type": "stream",
          "text": [
            "              precision    recall  f1-score   support\n",
            "\n",
            "           0       0.70      0.95      0.81        40\n",
            "           1       0.92      0.58      0.71        38\n",
            "\n",
            "    accuracy                           0.77        78\n",
            "   macro avg       0.81      0.76      0.76        78\n",
            "weighted avg       0.81      0.77      0.76        78\n",
            "\n",
            "Accuracy Score of NB:  0.7692307692307693\n"
          ]
        },
        {
          "data": {
            "text/plain": [
              "<AxesSubplot:>"
            ]
          },
          "execution_count": 28,
          "metadata": {},
          "output_type": "execute_result"
        },
        {
          "data": {
            "image/png": "[encoded data removed]",
            "text/plain": [
              "<Figure size 576x288 with 2 Axes>"
            ]
          },
          "metadata": {
            "needs_background": "light"
          },
          "output_type": "display_data"
        }
      ],
      "source": [
        "#Import GaussianNB\n",
        "from sklearn.naive_bayes import GaussianNB\n",
        "nb = GaussianNB()\n",
        "nb_model = nb.fit(X_train_scaled, y_train)\n",
        "y_pred_nb = nb_model.predict(X_test_scaled)\n",
        "Nb_SC = accuracy_score(y_test, y_pred_nb)\n",
        "print(classification_report(y_test, y_pred_nb))\n",
        "print('Accuracy Score of NB: ', accuracy_score(y_pred_nb,y_test))\n",
        "matrix7=confusion_matrix(y_test, y_pred_nb)\n",
        "plt.figure(figsize = (8,4))\n",
        "sns.heatmap(matrix7 , annot = True, cmap=\"Blues\")"
      ]
    },
    {
      "cell_type": "markdown",
      "id": "fc5cb847",
      "metadata": {
        "id": "fc5cb847"
      },
      "source": [
        "The accuracy score using Naive Bayees is **77%**. "
      ]
    },
    {
      "cell_type": "markdown",
      "id": "a6a977a7",
      "metadata": {
        "id": "a6a977a7"
      },
      "source": [
        "## Results\n",
        "---\n",
        "A model was developed for loan prediction and credit risk assessment using six machine learning algorithms: Random Forest, Support Vector Machine, Logistic Regression, K-Nearest Neighbours, Naive Bayes, and Decision Trees. To have a better grasp of the accuracy and other scores of the models, the results of all the models are provided below."
      ]
    },
    {
      "cell_type": "code",
      "execution_count": null,
      "id": "c8d5b738",
      "metadata": {
        "id": "c8d5b738",
        "outputId": "59ae33b9-f3d1-4921-fa73-a89a994870d8"
      },
      "outputs": [
        {
          "data": {
            "text/html": [
              "<div>\n",
              "<style scoped>\n",
              "    .dataframe tbody tr th:only-of-type {\n",
              "        vertical-align: middle;\n",
              "    }\n",
              "\n",
              "    .dataframe tbody tr th {\n",
              "        vertical-align: top;\n",
              "    }\n",
              "\n",
              "    .dataframe thead th {\n",
              "        text-align: right;\n",
              "    }\n",
              "</style>\n",
              "<table border=\"1\" class=\"dataframe\">\n",
              "  <thead>\n",
              "    <tr style=\"text-align: right;\">\n",
              "      <th></th>\n",
              "      <th>Algorithms</th>\n",
              "      <th>Score</th>\n",
              "    </tr>\n",
              "  </thead>\n",
              "  <tbody>\n",
              "    <tr>\n",
              "      <th>1</th>\n",
              "      <td>Random Forest</td>\n",
              "      <td>0.923077</td>\n",
              "    </tr>\n",
              "    <tr>\n",
              "      <th>3</th>\n",
              "      <td>SVM</td>\n",
              "      <td>0.871795</td>\n",
              "    </tr>\n",
              "    <tr>\n",
              "      <th>2</th>\n",
              "      <td>Logistic Regression</td>\n",
              "      <td>0.846154</td>\n",
              "    </tr>\n",
              "    <tr>\n",
              "      <th>0</th>\n",
              "      <td>Decision Tree</td>\n",
              "      <td>0.807692</td>\n",
              "    </tr>\n",
              "    <tr>\n",
              "      <th>4</th>\n",
              "      <td>KNeighborsClassifier</td>\n",
              "      <td>0.782051</td>\n",
              "    </tr>\n",
              "    <tr>\n",
              "      <th>5</th>\n",
              "      <td>Naive Bayes</td>\n",
              "      <td>0.769231</td>\n",
              "    </tr>\n",
              "  </tbody>\n",
              "</table>\n",
              "</div>"
            ],
            "text/plain": [
              "             Algorithms     Score\n",
              "1         Random Forest  0.923077\n",
              "3                   SVM  0.871795\n",
              "2   Logistic Regression  0.846154\n",
              "0         Decision Tree  0.807692\n",
              "4  KNeighborsClassifier  0.782051\n",
              "5           Naive Bayes  0.769231"
            ]
          },
          "execution_count": 30,
          "metadata": {},
          "output_type": "execute_result"
        }
      ],
      "source": [
        "#Tabulate accuracy in descending order\n",
        "score = [DT_SC,RF_SC,LR_SC , SVM_SC , KN_SC, Nb_SC]\n",
        "Models = pd.DataFrame({\n",
        "    'Algorithms': [\"Decision Tree\",\"Random Forest\", \"Logistic Regression\" , \"SVM\" , \"KNeighborsClassifier\", \"Naive Bayes\"],\n",
        "    'Score': score})\n",
        "Models.sort_values(by='Score', ascending=False)"
      ]
    },
    {
      "cell_type": "markdown",
      "id": "4ab9a84e",
      "metadata": {
        "id": "4ab9a84e"
      },
      "source": [
        "#### Comparison Analysis\n",
        "All algorithms has proven to be a good approach, Naïve Bayes appears to be the least choice for this modelling. The above shows accuracy of each algorithm considering all variables to be predictors."
      ]
    },
    {
      "cell_type": "markdown",
      "id": "fea7764b",
      "metadata": {
        "id": "fea7764b"
      },
      "source": [
        "#### Suggested Signignificat Variables "
      ]
    },
    {
      "cell_type": "code",
      "execution_count": null,
      "id": "20f7fdc5",
      "metadata": {
        "id": "20f7fdc5",
        "outputId": "7b15f949-bdd3-4027-8c79-62afbe32ac85"
      },
      "outputs": [
        {
          "name": "stdout",
          "output_type": "stream",
          "text": [
            "Optimization terminated successfully.\n",
            "         Current function value: 0.382883\n",
            "         Iterations 8\n",
            "                         Results: Logit\n",
            "=================================================================\n",
            "Model:              Logit            Pseudo R-squared: 0.447     \n",
            "Dependent Variable: Loan_Status      AIC:              225.5677  \n",
            "Date:               2022-04-13 12:45 BIC:              275.3092  \n",
            "No. Observations:   258              Log-Likelihood:   -98.784   \n",
            "Df Model:           13               LL-Null:          -178.76   \n",
            "Df Residuals:       244              LLR p-value:      2.0114e-27\n",
            "Converged:          1.0000           Scale:            1.0000    \n",
            "No. Iterations:     8.0000                                       \n",
            "-----------------------------------------------------------------\n",
            "                   Coef.  Std.Err.    z    P>|z|   [0.025  0.975]\n",
            "-----------------------------------------------------------------\n",
            "Married            0.9630   0.4345  2.2164 0.0267  0.1114  1.8146\n",
            "Dependents        -0.2945   0.2159 -1.3643 0.1725 -0.7176  0.1286\n",
            "Education          0.0906   0.4694  0.1931 0.8469 -0.8294  1.0106\n",
            "Self_Employed      2.1924   1.0386  2.1109 0.0348  0.1568  4.2280\n",
            "ApplicantIncome   -0.0002   0.0001 -2.3463 0.0190 -0.0004 -0.0000\n",
            "CoapplicantIncome -0.0001   0.0001 -2.1566 0.0310 -0.0003 -0.0000\n",
            "LoanAmount         0.0040   0.0042  0.9588 0.3377 -0.0042  0.0122\n",
            "Loan_Amount_Term  -0.0225   0.0040 -5.6868 0.0000 -0.0303 -0.0148\n",
            "Credit_History     5.2905   0.9747  5.4278 0.0000  3.3801  7.2009\n",
            "Rural_Area         2.3852   0.7326  3.2559 0.0011  0.9494  3.8209\n",
            "Urban_Area         1.7384   0.6972  2.4934 0.0127  0.3719  3.1049\n",
            "Semiurban_Area     3.5088   0.8083  4.3411 0.0000  1.9246  5.0930\n",
            "Female_Gender      1.2256   0.8440  1.4522 0.1464 -0.4285  2.8798\n",
            "Male_Gender        1.5382   0.7935  1.9384 0.0526 -0.0171  3.0935\n",
            "=================================================================\n",
            "\n"
          ]
        }
      ],
      "source": [
        "#Check statistical significant variables. i.e. p < 0.05 . 1) Self Employed  2) Loan Amount Term 3) Credit History \n",
        "#4) Rural Area 5) Urban Area 6) Semi Urban Area 7) Married 8) Applicant Income and 9)CoApplicant Income\n",
        "import statsmodels.api as sm\n",
        "logit_model=sm.Logit(y,X) #where y = target variable, Loan Status\n",
        "result=logit_model.fit()\n",
        "print(result.summary2())"
      ]
    },
    {
      "cell_type": "markdown",
      "id": "5a02d4f0",
      "metadata": {
        "id": "5a02d4f0"
      },
      "source": [
        "The p-value linked with the value in the z value column is represented by the Pr(>|z|) column. The predictor variable has a statistically significant association with the responder variable in the model if the p-value is less than a specific significance level (e.g. =. 05). From the above output, Self Employed, Loan Amount Term, Credit History, Rural Area, Urban Area, Semi Urban Area, Married, Applicant Income and CoApplicant Income have proven to be statistically significant."
      ]
    },
    {
      "cell_type": "markdown",
      "id": "3a9b1460",
      "metadata": {
        "id": "3a9b1460"
      },
      "source": [
        "## Conclusion\n",
        "---\n",
        "The goal of this work was to investigate, analyse, design, and propose the best machine learning algorithm for correctly identifying whether a person has a high probability of defaulting on a loan based on certain characteristics.\n",
        "As a result, it can be confidently inferred that the Random Forest model is incredibly efficient with 92% accuracy, produces superior results than other models. It functions properly and meets all banker standards. This system calculates the outcome correctly and precisely. As seen on the confusion matrix, it accurately predicts whether a loan will be approved or rejected for a loan application or consumer. Naïve Bayes on the other hand with 77% accuracy has performed low and therefore should not be prioritised."
      ]
    },
    {
      "cell_type": "markdown",
      "id": "1d266690",
      "metadata": {
        "id": "1d266690"
      },
      "source": [
        "## References\n",
        "---\n",
        "1. Learning Approachǁ, IOSR Journal of Computer Engineering (IOSR-JCE), Vol. 18, Issue 3, pp. 79-81, Ver. I (May-Jun. 2016).\n",
        "1. “Loan Prediction using Decision Tree and Random Forest”Author- Kshitiz Gautam, Arun Pratap Singh, Keshav Tyagi, Mr. Suresh Kumar Year-2020.\n",
        "1. Zhu L, Qiu D, Ergu D, Ying C and Liu K 2019 A study on predicting loan default based on the random forest algorithm The 7th Int. Conf. on Information Technol. and Quantitative Management (ITQM) 162 pp 503–13 .\n",
        "1. Turkson, Regina Esi, Edward Yeallakuor Baagyere, and Gideon Evans Wenya. \"A machine learning approach for predicting bank credit worthiness.\" 2016 Third International Conference on Artificial Intelligence and Pattern Recognition (AIPR). IEEE, 2016.\n",
        "1. Supriya P, Pavani M, Saisushma N, Kumari N V and Vikas K 2019 Loan prediction by using machine learning models Int. Journal of Engineering and Techniques 5 pp144–8\n",
        "1. Shoumo S Z H, Dhruba M I M, Hossain S, Ghani N H, Arif H and Islam S 2019 Application of machine learning in credit risk assessment: a prelude to smart banking TENCON 2019 – 2019 IEEE Region 10 Conf. (TENCON) pp 2023–8 .\n",
        "1. Addo P M, Guegan D and Hassani B 2018 Credit risk analysis using machine and deep learning models Risks 6 p 38.\n",
        "1. https://www.kaggle.com/code/ajaymanwani/loan-approval-prediction/notebook"
      ]
    },
    {
      "cell_type": "markdown",
      "id": "4064bcc9",
      "metadata": {
        "id": "4064bcc9"
      },
      "source": [
        "---\n",
        "<div style=\"text-align: right ;font-size: small; color: gray\"> Notebook by <a Student ID 2100793 </a> Oluwakemi Elizabeth Farinde - Student ID 2100793</a>, Student in Applied Data Science at the University of Essex "
      ]
    },
    {
      "cell_type": "code",
      "execution_count": null,
      "id": "1a507706",
      "metadata": {
        "id": "1a507706"
      },
      "outputs": [],
      "source": []
    }
  ],
  "metadata": {
    "kernelspec": {
      "display_name": "Python 3 (ipykernel)",
      "language": "python",
      "name": "python3"
    },
    "language_info": {
      "codemirror_mode": {
        "name": "ipython",
        "version": 3
      },
      "file_extension": ".py",
      "mimetype": "text/x-python",
      "name": "python",
      "nbconvert_exporter": "python",
      "pygments_lexer": "ipython3",
      "version": "3.9.7"
    },
    "colab": {
      "provenance": []
    }
  },
  "nbformat": 4,
  "nbformat_minor": 5
}